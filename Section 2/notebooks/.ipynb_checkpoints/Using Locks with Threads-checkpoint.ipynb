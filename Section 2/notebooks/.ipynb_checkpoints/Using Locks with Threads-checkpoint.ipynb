{
 "cells": [
  {
   "cell_type": "code",
   "execution_count": 11,
   "metadata": {},
   "outputs": [],
   "source": [
    "from threading import Thread, Lock"
   ]
  },
  {
   "cell_type": "code",
   "execution_count": 12,
   "metadata": {},
   "outputs": [],
   "source": [
    "thread_lock = Lock()"
   ]
  },
  {
   "cell_type": "code",
   "execution_count": 14,
   "metadata": {},
   "outputs": [],
   "source": [
    "# Not a good practise to use global variables\n",
    "my_global_string = \"Hello World\"\n",
    "my_global_num = 5\n",
    "\n",
    "def add_prefix(prefix_to_add):\n",
    "    # Adds suffix to global string\n",
    "    \n",
    "    global my_global_string, my_global_num\n",
    "    \n",
    "    # Acquire the lock over the data shared between threads\n",
    "    thread_lock.acquire()\n",
    "    \n",
    "    # Perform operation on shared data\n",
    "    if my_global_num == 5:\n",
    "        my_global_string = prefix_to_add + \" \" + my_global_string\n",
    "    \n",
    "    # Release the lock\n",
    "    thread_lock.release()"
   ]
  },
  {
   "cell_type": "code",
   "execution_count": 15,
   "metadata": {},
   "outputs": [],
   "source": [
    "def add_suffix(suffix_to_add):\n",
    "    # Adds suffix to global string\n",
    "    \n",
    "    global my_global_string\n",
    "    \n",
    "    # Acquire the lock over the data shared between threads\n",
    "    thread_lock.acquire()\n",
    "    \n",
    "    # Perform operation on shared data\n",
    "    my_global_string = my_global_string + \" \" + suffix_to_add \n",
    "    \n",
    "    # Release the lock\n",
    "    thread_lock.release()"
   ]
  },
  {
   "cell_type": "code",
   "execution_count": 20,
   "metadata": {},
   "outputs": [],
   "source": [
    "def do_threading():\n",
    "    \n",
    "    thread_prefix = Thread(target=add_prefix, args=(\"YOLO\",))\n",
    "    thread_suffix = Thread(target=add_suffix, args=(\"BYE!!\",))\n",
    "    \n",
    "    thread_prefix.start()\n",
    "    thread_suffix.start()\n",
    "    \n",
    "    thread_prefix.join()\n",
    "    thread_suffix.join()\n",
    "    \n",
    "    global my_global_string\n",
    "    print(\"Final string is {}\".format(my_global_string))"
   ]
  },
  {
   "cell_type": "code",
   "execution_count": 21,
   "metadata": {},
   "outputs": [
    {
     "name": "stdout",
     "output_type": "stream",
     "text": [
      "Final string is YOLO Hello World BYE!!\n"
     ]
    }
   ],
   "source": [
    "do_threading()"
   ]
  },
  {
   "cell_type": "code",
   "execution_count": null,
   "metadata": {},
   "outputs": [],
   "source": []
  }
 ],
 "metadata": {
  "kernelspec": {
   "display_name": "Python 3",
   "language": "python",
   "name": "python3"
  },
  "language_info": {
   "codemirror_mode": {
    "name": "ipython",
    "version": 3
   },
   "file_extension": ".py",
   "mimetype": "text/x-python",
   "name": "python",
   "nbconvert_exporter": "python",
   "pygments_lexer": "ipython3",
   "version": "3.6.7"
  }
 },
 "nbformat": 4,
 "nbformat_minor": 2
}
