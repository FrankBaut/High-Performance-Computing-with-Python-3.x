{
 "cells": [
  {
   "cell_type": "code",
   "execution_count": 26,
   "metadata": {},
   "outputs": [],
   "source": [
    "from multiprocessing import Pool\n",
    "\n",
    "def f(x):\n",
    "    return x*x\n",
    "\n",
    "very_large_list = [ x for x in range(0, 80000000)]\n",
    "# Decorating to return execution time of function\n",
    "def time_deco(my_func):\n",
    "    def inner_wrap(*args, **kwargs):\n",
    "        start = time.time()\n",
    "        my_func(*args, **kwargs)\n",
    "        end = time.time()\n",
    "        print(\"Time taken is {} seconds\".format(end-start))\n",
    "    return inner_wrap\n",
    "\n",
    "# if __name__ == '__main__':\n",
    "#     with Pool(processes=4) as pool:         # start 4 worker processes\n",
    "#         result = pool.apply_async(f, (10,)) # evaluate \"f(10)\" asynchronously\n",
    "#         print(result.get(timeout=1))        # prints \"100\" unless your computer is *very* slow\n",
    "\n",
    "#         print(pool.map(f, range(10)))       # prints \"[0, 1, 4,..., 81]\"\n",
    "\n",
    "#         it = pool.imap(f, range(10))\n",
    "#         print(next(it))                     # prints \"0\"\n",
    "#         print(next(it))                     # prints \"1\"\n",
    "#         print(it.next(timeout=1))           # prints \"4\" unless your computer is *very* slow\n",
    "\n",
    "#         import time\n",
    "#         result = pool.apply_async(time.sleep, (10,))\n",
    "#         print(result.get(timeout=1))   "
   ]
  },
  {
   "cell_type": "code",
   "execution_count": 27,
   "metadata": {},
   "outputs": [],
   "source": [
    "@time_deco\n",
    "def multiprocess_map():\n",
    "    with Pool(processes=4) as pool:         # start 4 worker processes\n",
    "        result = pool.map(f,very_large_list, chunksize=2000000) # evaluate \"f(10)\" asynchronously\n",
    "        "
   ]
  },
  {
   "cell_type": "code",
   "execution_count": 28,
   "metadata": {},
   "outputs": [
    {
     "name": "stdout",
     "output_type": "stream",
     "text": [
      "Time taken is 159.7085678577423 seconds\n"
     ]
    }
   ],
   "source": [
    "multiprocess_map()"
   ]
  },
  {
   "cell_type": "code",
   "execution_count": 29,
   "metadata": {},
   "outputs": [],
   "source": [
    "@time_deco\n",
    "def linear_map():\n",
    "    result = list(map(f, very_large_list))"
   ]
  },
  {
   "cell_type": "code",
   "execution_count": 30,
   "metadata": {},
   "outputs": [
    {
     "name": "stdout",
     "output_type": "stream",
     "text": [
      "Time taken is 6.384137868881226 seconds\n"
     ]
    }
   ],
   "source": [
    "linear_map()"
   ]
  },
  {
   "cell_type": "code",
   "execution_count": null,
   "metadata": {},
   "outputs": [],
   "source": []
  }
 ],
 "metadata": {
  "kernelspec": {
   "display_name": "Python 3",
   "language": "python",
   "name": "python3"
  },
  "language_info": {
   "codemirror_mode": {
    "name": "ipython",
    "version": 3
   },
   "file_extension": ".py",
   "mimetype": "text/x-python",
   "name": "python",
   "nbconvert_exporter": "python",
   "pygments_lexer": "ipython3",
   "version": "3.6.7"
  }
 },
 "nbformat": 4,
 "nbformat_minor": 2
}
