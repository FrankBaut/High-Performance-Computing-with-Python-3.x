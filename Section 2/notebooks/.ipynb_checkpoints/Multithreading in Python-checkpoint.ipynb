{
 "cells": [
  {
   "cell_type": "code",
   "execution_count": 1,
   "metadata": {},
   "outputs": [],
   "source": [
    "from threading import Thread"
   ]
  },
  {
   "cell_type": "code",
   "execution_count": 7,
   "metadata": {},
   "outputs": [],
   "source": [
    "def func_simple(length):\n",
    "    sum_f1 = 0\n",
    "    for x in range(0, length):\n",
    "        sum_f1 += x\n",
    "    print(\"Normal sum is {}\".format(sum_f1))\n",
    "    "
   ]
  },
  {
   "cell_type": "code",
   "execution_count": 5,
   "metadata": {},
   "outputs": [],
   "source": [
    "# computes sum of squares\n",
    "def func_square(length):\n",
    "    sum_f1 = 0\n",
    "    for x in range(0, length):\n",
    "        sum_f1 += x * x\n"
   ]
  },
  {
   "cell_type": "code",
   "execution_count": 6,
   "metadata": {},
   "outputs": [],
   "source": [
    "# computes sum of cubes\n",
    "def func_cubes(length):\n",
    "    sum_f1 = 0\n",
    "    for x in range(0, length):\n",
    "        sum_f1 += x * x * x\n"
   ]
  },
  {
   "cell_type": "code",
   "execution_count": null,
   "metadata": {},
   "outputs": [],
   "source": [
    "def do_threading():\n",
    "    length = 10\n",
    "    thread_simple = Thread(target=func_simple, args=(length,))\n",
    "    thread_square = Thread(target=func_square, args=(length,))\n",
    "    thread_cube = Thread(target=func_cube, args=(length,))\n",
    "    \n",
    "    #start execution\n",
    "    thread_simple.start()\n",
    "    thread_square.start()\n",
    "    thread_cube.start()"
   ]
  },
  {
   "cell_type": "code",
   "execution_count": null,
   "metadata": {},
   "outputs": [],
   "source": []
  }
 ],
 "metadata": {
  "kernelspec": {
   "display_name": "Python 3",
   "language": "python",
   "name": "python3"
  },
  "language_info": {
   "codemirror_mode": {
    "name": "ipython",
    "version": 3
   },
   "file_extension": ".py",
   "mimetype": "text/x-python",
   "name": "python",
   "nbconvert_exporter": "python",
   "pygments_lexer": "ipython3",
   "version": "3.6.7"
  }
 },
 "nbformat": 4,
 "nbformat_minor": 2
}
